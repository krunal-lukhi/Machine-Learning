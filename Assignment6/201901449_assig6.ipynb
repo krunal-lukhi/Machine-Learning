{
  "nbformat": 4,
  "nbformat_minor": 0,
  "metadata": {
    "colab": {
      "name": "201901449_assig6.ipynb",
      "provenance": []
    },
    "kernelspec": {
      "name": "python3",
      "display_name": "Python 3"
    },
    "language_info": {
      "name": "python"
    }
  },
  "cells": [
    {
      "cell_type": "markdown",
      "source": [
        "Machine Learning (IE406)"
      ],
      "metadata": {
        "id": "c8cHirFwgTlJ"
      }
    },
    {
      "cell_type": "markdown",
      "source": [
        "Assignment - 6"
      ],
      "metadata": {
        "id": "vmz6BtoYgj0p"
      }
    },
    {
      "cell_type": "markdown",
      "source": [
        "Lukhi Krunalkumar - 201901449"
      ],
      "metadata": {
        "id": "4ABlNKx5gamP"
      }
    },
    {
      "cell_type": "code",
      "execution_count": null,
      "metadata": {
        "id": "LLPEhZzLG2zE"
      },
      "outputs": [],
      "source": [
        "import numpy as np\n",
        "import matplotlib.pyplot as plt\n",
        "import scipy.io as sc\n",
        "from sklearn.model_selection import cross_val_score\n",
        "from sklearn.model_selection import cross_validate\n",
        "from sklearn.model_selection import RepeatedKFold\n",
        "from sklearn.linear_model import Ridge\n",
        "from sklearn.model_selection import LeaveOneOut"
      ]
    },
    {
      "cell_type": "code",
      "source": [
        "mat=sc.loadmat('motorcycle.mat')\n",
        "data=mat['motorcycle']\n",
        "x=np.array(data[:,0])\n",
        "#print(x.shape)\n",
        "x=x.reshape((133,1))\n",
        "y=data[:,1]\n",
        "#print(x.shape)\n",
        "#print(x)\n"
      ],
      "metadata": {
        "id": "W1Pm1DbQM1Mj"
      },
      "execution_count": null,
      "outputs": []
    },
    {
      "cell_type": "code",
      "source": [
        "model = Ridge(alpha=1.0)\n",
        "\"\"\"model.fit(x,y)\n",
        "w=model.coef_\n",
        "b=[model.intercept_]\n",
        "b.extend(w)\n",
        "theta=b\"\"\"\n",
        "#print(theta)\n",
        "\n",
        "cv1 = RepeatedKFold(n_splits=5, n_repeats=1, random_state=1)\n",
        "cv2 = LeaveOneOut()\n",
        "\n",
        "#5-fold\n",
        "print(\"*5-fold*\\n\")\n",
        "score1 = cross_val_score(model, x, y, scoring='neg_root_mean_squared_error', cv=cv1, n_jobs=-1)\n",
        "print(\"RMSE: \",np.sqrt(abs(score1)),\"\\n\")\n",
        "score2 = cross_val_score(model, x, y, scoring='r2', cv=cv1, n_jobs=-1)\n",
        "print(\"R_squred: \",abs(score2),\"\\n\")\n",
        "score3 = cross_val_score(model, x, y, scoring='neg_mean_absolute_error', cv=cv1, n_jobs=-1)\n",
        "print(\"MAE: \",abs(score3),\"\\n\")\n",
        "score4 = cross_val_score(model, x, y, scoring='neg_mean_squared_error', cv=cv1, n_jobs=-1)\n",
        "print(\"NMSE: \",abs(score4)/np.var(y),\"\\n\")\n",
        "print(\"\\n\")\n",
        "\n",
        "#Leave one out\n",
        "print(\"*leave-one-out*\\n\")\n",
        "score5 = cross_val_score(model, x, y, scoring='neg_root_mean_squared_error', cv=cv2, n_jobs=-1)\n",
        "print(\"RMSE: \",np.sqrt(abs(score5)),\"\\n\")\n",
        "score6 = cross_val_score(model, x, y, scoring='neg_mean_absolute_error', cv=cv2, n_jobs=-1)\n",
        "print(\"MAE: \",abs(score6),\"\\n\")\n",
        "score7 = cross_val_score(model, x, y, scoring='neg_mean_squared_error', cv=cv2, n_jobs=-1)\n",
        "print(\"NMSE: \",abs(score7)/np.var(y),\"\\n\")"
      ],
      "metadata": {
        "colab": {
          "base_uri": "https://localhost:8080/"
        },
        "id": "hFm7loUzQNzK",
        "outputId": "a73ea04a-cd20-4fb7-faa0-6512389da29e"
      },
      "execution_count": null,
      "outputs": [
        {
          "output_type": "stream",
          "name": "stdout",
          "text": [
            "*5-fold*\n",
            "\n",
            "RMSE:  [6.80652071 7.22349586 6.76264354 7.14243077 6.17907367] \n",
            "\n",
            "R_squred:  [0.01990771 0.13659391 0.05024776 0.06396838 0.12315954] \n",
            "\n",
            "MAE:  [35.50024065 42.55943304 37.07420321 41.69120769 34.09492466] \n",
            "\n",
            "NMSE:  [0.92616356 1.17483458 0.90251201 1.12297778 0.62904324] \n",
            "\n",
            "\n",
            "\n",
            "*leave-one-out*\n",
            "\n",
            "RMSE:  [ 7.20863095  7.09775144  6.94276573  7.10583842  6.87240317  6.67723931\n",
            "  6.6414639   6.73077225  6.53353857  6.49735237  6.55271249  6.44286306\n",
            "  6.36979935  6.33308273  6.0932256   6.2777659   6.01678632  6.42085541\n",
            "  6.03438087  5.99635678  6.20193805  4.90744594  5.66414148  5.66414148\n",
            "  5.30409198  4.62050089  3.8030785   5.88125623  3.68375996  2.03955958\n",
            "  4.1825792   4.3486286   2.06306333  3.82913413  3.7998896   3.89848666\n",
            "  2.72518808  2.97590985  3.7407648   3.95403224  5.16297172  5.4816128\n",
            "  6.7660004   4.93554564  6.05846541  7.55118561  6.59369422  1.93021811\n",
            "  7.23281852  9.49705534  8.29331112  8.13401265  8.45666683  8.97427594\n",
            "  4.27210494  9.58479705  7.36470216  6.38891562  9.81969611  9.6397005\n",
            "  9.37502511 10.24582327  8.53381275  8.93359156  9.73870068  9.80485597\n",
            " 10.0892756   9.29099866  8.30711939  7.45700386  5.24691511  6.24114546\n",
            "  5.665719    6.88123159  4.37483325  1.3139027   4.4041818   9.1267649\n",
            "  1.71890293  6.45771863  2.76010218  4.73614082  0.93005898  5.75294996\n",
            "  5.20732773  5.87575066  0.73292583  7.74670648  8.32293342  1.88995273\n",
            "  7.53388271  9.74953529  5.2276319   8.58554095  8.18210396  8.04900904\n",
            "  5.73803693  7.90041685  4.12070697  9.54507042  1.18324666  6.38511999\n",
            "  9.22106392  7.0420028   6.84515957  4.9281013   6.06622075  7.70308299\n",
            "  4.75351762  3.98887944  2.9802146   3.51141933  2.10548806  6.2606389\n",
            "  1.76744889  6.07640833  2.54256652  2.11344391  4.61154228  1.95114645\n",
            "  2.16664243  3.87300142  3.64008047  5.16981738  3.77529074  3.73672596\n",
            "  1.50339157  2.69793119  4.53642999  3.18600793  1.97587316  3.25882866\n",
            "  0.96792602] \n",
            "\n",
            "MAE:  [ 51.96436015  50.3780755   48.20199602  50.49293962  47.22992527\n",
            "  44.58552476  44.10904274  45.30329514  42.68712626  42.21558786\n",
            "  42.93804097  41.51048435  40.57434372  40.10793692  37.12739819\n",
            "  39.41034469  36.20171763  41.22738418  36.41375248  35.95629468\n",
            "  38.46403563  24.08302562  32.08249872  32.08249872  28.13339174\n",
            "  21.34902848  14.46340606  34.58917484  13.57008741   4.15980328\n",
            "  17.4939688   18.91057072   4.25623031  14.66226816  14.43916098\n",
            "  15.19819827   7.42665009   8.85603946  13.99332126  15.63437095\n",
            "  26.65627693  30.04807888  45.77876139  24.35961072  36.70500316\n",
            "  57.02040405  43.47680346   3.72574193  52.31366373  90.19406015\n",
            "  68.77900937  66.16216173  71.51521382  80.53762869  18.25088059\n",
            "  91.86833452  54.2388379   40.81824277  96.42643174  92.92382576\n",
            "  87.89109585 104.97689451  72.82596002  79.80905824  94.84229094\n",
            "  96.13520057 101.79348218  86.32265613  69.00823253  55.60690651\n",
            "  27.53011821  38.95189664  32.10037177  47.3513482   19.13916597\n",
            "   1.72634031  19.39681732  83.29783761   2.95462727  41.7021299\n",
            "   7.61816402  22.43102983   0.8650097   33.09643321  27.11626206\n",
            "  34.52444581   0.53718027  60.01146135  69.27122067   3.57192134\n",
            "  56.75938868  95.05343835  27.32813526  73.71151336  66.9468252\n",
            "  64.78654648  32.92506786  62.4165864   16.98022596  91.10836941\n",
            "   1.40007265  40.76975729  85.02801974  49.58980345  46.85620949\n",
            "  24.28618243  36.79903419  59.33748749  22.59592981  15.91115917\n",
            "   8.88167906  12.33006571   4.43307996  39.19559939   3.12387559\n",
            "  36.92273818   6.4646445    4.46664515  21.26632217   3.80697248\n",
            "   4.69433941  15.00013997  13.25018583  26.72701179  14.25282015\n",
            "  13.96312093   2.26018623   7.27883269  20.57919709  10.15064653\n",
            "   3.90407475  10.61996423   0.93688077] \n",
            "\n",
            "NMSE:  [1.16519382e+00 1.09514129e+00 1.00257542e+00 1.10014092e+00\n",
            " 9.62546065e-01 8.57777739e-01 8.39541699e-01 8.85618315e-01\n",
            " 7.86286544e-01 7.69011242e-01 7.95557287e-01 7.43537039e-01\n",
            " 7.10378836e-01 6.94140929e-01 5.94806955e-01 6.70204705e-01\n",
            " 5.65516602e-01 7.33429825e-01 5.72160507e-01 5.57874959e-01\n",
            " 6.38405621e-01 2.50270177e-01 4.44143568e-01 4.44143568e-01\n",
            " 3.41531836e-01 1.96672319e-01 9.02668244e-02 5.16258731e-01\n",
            " 7.94606834e-02 7.46676687e-03 1.32057692e-01 1.54310784e-01\n",
            " 7.81694844e-03 9.27661050e-02 8.99644487e-02 9.96715513e-02\n",
            " 2.37997794e-02 3.38427848e-02 8.44945341e-02 1.05474586e-01\n",
            " 3.06609770e-01 3.89601327e-01 9.04305312e-01 2.56051718e-01\n",
            " 5.81349814e-01 1.40296742e+00 8.15646953e-01 5.98980309e-03\n",
            " 1.18091130e+00 3.51028906e+00 2.04126241e+00 1.88888875e+00\n",
            " 2.20690627e+00 2.79888260e+00 1.43732392e-01 3.64182181e+00\n",
            " 1.26942708e+00 7.18944912e-01 4.01216882e+00 3.72598558e+00\n",
            " 3.33331813e+00 4.75526198e+00 2.28854493e+00 2.74847239e+00\n",
            " 3.88142392e+00 3.98796997e+00 4.47122936e+00 3.21541176e+00\n",
            " 2.05489112e+00 1.33427232e+00 3.27041720e-01 6.54702839e-01\n",
            " 4.44638568e-01 9.67501627e-01 1.58064020e-01 1.28599663e-03\n",
            " 1.62348379e-01 2.99401837e+00 3.76697215e-03 7.50418409e-01\n",
            " 2.50430744e-02 2.17112802e-01 3.22870942e-04 4.72660588e-01\n",
            " 3.17282889e-01 5.14328320e-01 1.24516560e-04 1.55401573e+00\n",
            " 2.07058321e+00 5.50542408e-03 1.39015243e+00 3.89872559e+00\n",
            " 3.22260446e-01 2.34454008e+00 1.93395774e+00 1.81115937e+00\n",
            " 4.67778615e-01 1.68107478e+00 1.24415342e-01 3.58181833e+00\n",
            " 8.45839868e-04 7.17237946e-01 3.11968781e+00 1.06113779e+00\n",
            " 9.47373672e-01 2.54510387e-01 5.84332238e-01 1.51930621e+00\n",
            " 2.20316711e-01 1.09242253e-01 3.40390286e-02 6.56021070e-02\n",
            " 8.48004459e-03 6.62920771e-01 4.21089551e-03 5.88267435e-01\n",
            " 1.80333454e-02 8.60894454e-03 1.95151451e-01 6.25383588e-03\n",
            " 9.50902479e-03 9.70906993e-02 7.57584262e-02 3.08239163e-01\n",
            " 8.76574063e-02 8.41302161e-02 2.20432413e-03 2.28618031e-02\n",
            " 1.82744308e-01 4.44605075e-02 6.57693055e-03 4.86668362e-02\n",
            " 3.78752629e-04] \n",
            "\n"
          ]
        }
      ]
    },
    {
      "cell_type": "code",
      "source": [
        "theta0=[]\n",
        "theta1=[]\n",
        "#print(theta)\n",
        "res1 = cross_validate(model,x,y,cv=cv1,scoring='neg_mean_absolute_error',return_estimator=True)\n",
        "res2 = cross_validate(model,x,y,cv=cv2,scoring='neg_mean_absolute_error',return_estimator=True)\n",
        "for c1 in res1['estimator']:\n",
        "  theta0.append(c1.intercept_)\n",
        "  theta1.append(c1.coef_[0])\n",
        "\n",
        "mean0_1=np.mean(theta0)\n",
        "mean1_1=np.mean(theta1)\n",
        "var0_1=np.var(theta0)\n",
        "var1_1=np.var(theta1)\n",
        "\n",
        "print(\"5-fold\\n\")\n",
        "print(\"mean of coefficients: \",mean0_1,mean1_1)\n",
        "print(\"variance of coefficients: \",var0_1,var1_1)\n",
        "\n",
        "for c2 in res2['estimator']:\n",
        "  theta0.append(c2.intercept_)\n",
        "  theta1.append(c2.coef_[0])\n",
        "\n",
        "mean0_2=np.mean(theta0)\n",
        "mean1_2=np.mean(theta1)\n",
        "var0_2=np.var(theta0)\n",
        "var1_2=np.var(theta1)\n",
        "\n",
        "print(\"\\n\")\n",
        "print(\"leave-one-out\\n\")\n",
        "print(\"mean of coefficients: \",mean0_2,mean1_2)\n",
        "print(\"variance of coefficients: \",var0_2,var1_2)"
      ],
      "metadata": {
        "id": "Uo47qTnnWF9-",
        "colab": {
          "base_uri": "https://localhost:8080/"
        },
        "outputId": "2ed5bccc-2ba7-4749-8df8-20fd9634c74f"
      },
      "execution_count": null,
      "outputs": [
        {
          "output_type": "stream",
          "name": "stdout",
          "text": [
            "5-fold\n",
            "\n",
            "mean of coefficients:  -53.21256233515241 1.0969056662801056\n",
            "variance of coefficients:  31.513291371126563 0.03628099662651639\n",
            "\n",
            "\n",
            "leave-one-out\n",
            "\n",
            "mean of coefficients:  -53.016685331625766 1.090926301006232\n",
            "variance of coefficients:  1.5752581220271562 0.0016616249867673408\n"
          ]
        }
      ]
    },
    {
      "cell_type": "code",
      "source": [
        "y_pred_loocv=mean0_2+x*mean1_2\n",
        "y_pred_kflod=mean0_1+x*mean1_1\n",
        "\n",
        "plt.figure()\n",
        "plt.scatter(x,y)\n",
        "plt.scatter(x,y_pred_loocv)\n",
        "plt.xlabel('X')\n",
        "plt.ylabel('Y')\n",
        "plt.legend(['training','estimated'])\n",
        "plt.show()\n",
        "\n"
      ],
      "metadata": {
        "colab": {
          "base_uri": "https://localhost:8080/",
          "height": 279
        },
        "id": "lVYCB5hB3Fsz",
        "outputId": "40343b9f-23c1-4e55-afe2-4493d6275671"
      },
      "execution_count": null,
      "outputs": [
        {
          "output_type": "display_data",
          "data": {
            "text/plain": [
              "<Figure size 432x288 with 1 Axes>"
            ],
            "image/png": "[encoded data removed]"
          },
          "metadata": {
            "needs_background": "light"
          }
        }
      ]
    },
    {
      "cell_type": "code",
      "source": [
        "print(\"\\n\")\n",
        "print(\"Variance of 5-fold: \",np.var(abs(score1)))\n",
        "print(\"Variance of Leave-one-out: \",np.var(abs(score5)))"
      ],
      "metadata": {
        "colab": {
          "base_uri": "https://localhost:8080/"
        },
        "id": "l_SqNWcLyGoo",
        "outputId": "b2e40780-5d1c-41bb-f685-58b057c96f42"
      },
      "execution_count": null,
      "outputs": [
        {
          "output_type": "stream",
          "name": "stdout",
          "text": [
            "\n",
            "\n",
            "Variance of 5-fold:  24.455446794779675\n",
            "Variance of Leave-one-out:  748.0552175414982\n"
          ]
        }
      ]
    },
    {
      "cell_type": "markdown",
      "source": [
        "**Observations:**\n",
        "\n",
        "\n",
        "Variance in 5-fold cross validation is less than leave-one-out.  The reason is that, leave-one-out uses highly correlated trainig data , because we leave only one element in each iterations. So, traing data is not much changed. Highly correlated training data produces the estimate that has larger variance. On the other hand, 5-fold validation uses training data with lesser degree of correlation. In each iterations, there is less overlap in training data as compared to leave-one-out scheme. This leads to smaller variance in estimate. \n",
        "\n"
      ],
      "metadata": {
        "id": "y22MxZV-5jYn"
      }
    }
  ]
}