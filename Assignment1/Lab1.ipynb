{
  "nbformat": 4,
  "nbformat_minor": 0,
  "metadata": {
    "colab": {
      "name": "Lab1.ipynb",
      "provenance": [],
      "collapsed_sections": []
    },
    "kernelspec": {
      "name": "python3",
      "display_name": "Python 3"
    },
    "language_info": {
      "name": "python"
    }
  },
  "cells": [
    {
      "cell_type": "markdown",
      "source": [
        "***Machine Learning (IE406)***\\\n",
        " **Asssignment 1**\\\n",
        "**Lukhi Krunalkumar - 201901449**"
      ],
      "metadata": {
        "id": "8NqI9d-lXMpr"
      }
    },
    {
      "cell_type": "code",
      "source": [
        "import numpy.matlib\n",
        "import math\n",
        "import numpy as np"
      ],
      "metadata": {
        "id": "r6unvissWlA-"
      },
      "execution_count": null,
      "outputs": []
    },
    {
      "cell_type": "markdown",
      "source": [
        "***Question 1***"
      ],
      "metadata": {
        "id": "3aCl49FPXER7"
      }
    },
    {
      "cell_type": "code",
      "source": [
        "W=np.array([[8,5,1,5,6],\n",
        "   [5,3,8,7,5],\n",
        "   [1,8,10,7,8],\n",
        "   [5,7,7,8,9],\n",
        "   [6,5,8,9,7]])"
      ],
      "metadata": {
        "id": "hjwyVSkybCZH"
      },
      "execution_count": null,
      "outputs": []
    },
    {
      "cell_type": "markdown",
      "source": [
        "*1.   Is the matrix W symmetric?*"
      ],
      "metadata": {
        "id": "hXwYfp7laGDO"
      }
    },
    {
      "cell_type": "code",
      "source": [
        "W_tran=W.transpose()\n",
        "compare=W==W_tran\n",
        "print(compare.all())"
      ],
      "metadata": {
        "colab": {
          "base_uri": "https://localhost:8080/"
        },
        "id": "KekJuSYyWzKf",
        "outputId": "b06a9d79-04d3-4c12-a6a5-28780f75396f"
      },
      "execution_count": null,
      "outputs": [
        {
          "output_type": "stream",
          "name": "stdout",
          "text": [
            "True\n"
          ]
        }
      ]
    },
    {
      "cell_type": "markdown",
      "source": [
        "*2.   What is the maximum eigenvalue of W?*"
      ],
      "metadata": {
        "id": "_CMlTHBoaNHN"
      }
    },
    {
      "cell_type": "code",
      "source": [
        "eval, evect=np.linalg.eig(W)\n",
        "print(np.max(eval))"
      ],
      "metadata": {
        "colab": {
          "base_uri": "https://localhost:8080/"
        },
        "id": "IWxTWy8oaZBJ",
        "outputId": "4cf7001c-51dd-493f-97a1-5bf70f129fd8"
      },
      "execution_count": null,
      "outputs": [
        {
          "output_type": "stream",
          "name": "stdout",
          "text": [
            "32.275416286869884\n"
          ]
        }
      ]
    },
    {
      "cell_type": "markdown",
      "source": [
        "*3. What is the square root of maximum eigenvalue of W2?*"
      ],
      "metadata": {
        "id": "NRGWQDuJcAS0"
      }
    },
    {
      "cell_type": "code",
      "source": [
        "W_sqr=np.dot(W,W)\n",
        "eval_sqr,evect_sqr=np.linalg.eig(W_sqr)\n",
        "print(math.sqrt(np.max(eval_sqr)))"
      ],
      "metadata": {
        "colab": {
          "base_uri": "https://localhost:8080/"
        },
        "id": "VIrgGlB-cKbG",
        "outputId": "aad41ed2-65f0-4111-c793-16dea19f83ca"
      },
      "execution_count": null,
      "outputs": [
        {
          "output_type": "stream",
          "name": "stdout",
          "text": [
            "32.275416286869856\n"
          ]
        }
      ]
    },
    {
      "cell_type": "markdown",
      "source": [
        "*4. What is the Frobenius norm of the matrix?*"
      ],
      "metadata": {
        "id": "z5SlJQP8j_Zk"
      }
    },
    {
      "cell_type": "code",
      "source": [
        "print(np.linalg.norm(W))"
      ],
      "metadata": {
        "colab": {
          "base_uri": "https://localhost:8080/"
        },
        "id": "kZzSygSkkESE",
        "outputId": "68db1ddf-62d3-4ca3-f8b0-eb59e2c4fbb8"
      },
      "execution_count": null,
      "outputs": [
        {
          "output_type": "stream",
          "name": "stdout",
          "text": [
            "33.52610922848042\n"
          ]
        }
      ]
    },
    {
      "cell_type": "markdown",
      "source": [
        "*5. What is the determinant of the matrix? What is its rank?*"
      ],
      "metadata": {
        "id": "ms5LP5jZkUIY"
      }
    },
    {
      "cell_type": "code",
      "source": [
        "print(\"determinant: \"+str(np.linalg.det(W)))\n",
        "print(\"rank: \"+str(np.linalg.matrix_rank(W)))"
      ],
      "metadata": {
        "colab": {
          "base_uri": "https://localhost:8080/"
        },
        "id": "lCiTR4nylPT2",
        "outputId": "598e9ffa-e8c9-4231-b9d0-5dcd0fba1c4a"
      },
      "execution_count": null,
      "outputs": [
        {
          "output_type": "stream",
          "name": "stdout",
          "text": [
            "determinant: 564.9999999999997\n",
            "rank: 5\n"
          ]
        }
      ]
    },
    {
      "cell_type": "markdown",
      "source": [
        "*6. Perform eigendecomposition of the symmetric matrix and print the eigenvector matrix Q, and the\n",
        "diagonal matrix Λ with eigenvalues. Verify that matrix W equals $QΛQ^T$*"
      ],
      "metadata": {
        "id": "jJ0T9JuTmHFK"
      }
    },
    {
      "cell_type": "code",
      "source": [
        "print(\"Eigenvector Matrix Q:\\n\")\n",
        "print(str(evect)+\"\\n\")\n",
        "print(\"Diagonal Matrix A with eigen value:\\n\")\n",
        "print(str(np.diag(eval))+\"\\n\")\n",
        "\n",
        "product=np.dot(np.dot(evect,np.diag(eval)),evect.transpose())\n",
        "print(\"Are QAQT and W Equal: \"+str(np.allclose(product,W,1,1e5))+\"\\n\")"
      ],
      "metadata": {
        "colab": {
          "base_uri": "https://localhost:8080/"
        },
        "id": "GSA6fMm2m6fV",
        "outputId": "953d109a-9170-4f49-927d-b68befa247e0"
      },
      "execution_count": null,
      "outputs": [
        {
          "output_type": "stream",
          "name": "stdout",
          "text": [
            "Eigenvector Matrix Q:\n",
            "\n",
            "[[-0.32686672 -0.78644991 -0.30823314 -0.41153047  0.10143812]\n",
            " [-0.39467476  0.04740538  0.68031453 -0.40169827 -0.46668534]\n",
            " [-0.49139203  0.60944275 -0.42781773 -0.40420933  0.20174294]\n",
            " [-0.50485227 -0.05022796 -0.3091631   0.59515818 -0.54111575]\n",
            " [-0.49096643 -0.07284208  0.40441889  0.38946466  0.66212433]]\n",
            "\n",
            "Diagonal Matrix A with eigen value:\n",
            "\n",
            "[[32.27541629  0.          0.          0.          0.        ]\n",
            " [ 0.          7.79874449  0.          0.          0.        ]\n",
            " [ 0.          0.         -4.50499151  0.          0.        ]\n",
            " [ 0.          0.          0.          0.95343025  0.        ]\n",
            " [ 0.          0.          0.          0.         -0.52259951]]\n",
            "\n",
            "Are QAQT and W Equal: True\n",
            "\n"
          ]
        }
      ]
    },
    {
      "cell_type": "markdown",
      "source": [
        "***Question 2***"
      ],
      "metadata": {
        "id": "dHHf4Uy5XB2a"
      }
    },
    {
      "cell_type": "code",
      "source": [
        "y0=np.array([0,1,0,0,0])\n",
        "y0=y0.transpose()\n",
        "b=np.array([1,0,0,0,0])\n",
        "b=b.transpose()\n",
        "y1=np.dot(y0,W)+b"
      ],
      "metadata": {
        "id": "ouEsAy9NsNDA"
      },
      "execution_count": null,
      "outputs": []
    },
    {
      "cell_type": "markdown",
      "source": [
        "*1. What is the value of $||y_1||_2$*"
      ],
      "metadata": {
        "id": "kHXj8lJtq-DS"
      }
    },
    {
      "cell_type": "code",
      "source": [
        "print(np.linalg.norm(y1,2))"
      ],
      "metadata": {
        "colab": {
          "base_uri": "https://localhost:8080/"
        },
        "id": "oXRABMISsKI0",
        "outputId": "f30eccef-ba5a-446c-cd68-6d6fe31234bb"
      },
      "execution_count": null,
      "outputs": [
        {
          "output_type": "stream",
          "name": "stdout",
          "text": [
            "13.527749258468683\n"
          ]
        }
      ]
    },
    {
      "cell_type": "markdown",
      "source": [
        "*2. What is the value of $||y_1||_2/||y_0||_2$*"
      ],
      "metadata": {
        "id": "z5VwvKh-t0B6"
      }
    },
    {
      "cell_type": "code",
      "source": [
        "print(np.linalg.norm(y1,2)/np.linalg.norm(y0,2))"
      ],
      "metadata": {
        "colab": {
          "base_uri": "https://localhost:8080/"
        },
        "id": "k55SExiwtzkY",
        "outputId": "9ff6698b-290e-4dcb-832e-55614dbcbe85"
      },
      "execution_count": null,
      "outputs": [
        {
          "output_type": "stream",
          "name": "stdout",
          "text": [
            "13.527749258468683\n"
          ]
        }
      ]
    },
    {
      "cell_type": "markdown",
      "source": [
        "***Question 3: Orthogonal Matrix***"
      ],
      "metadata": {
        "id": "rg9GdbJ7ua_D"
      }
    },
    {
      "cell_type": "code",
      "source": [
        "A=(1/3)*np.array([[2,-2,1],[1,2,2],[2,1,-2]])\n",
        "v=np.array([1,0,1])\n",
        "v=v.transpose()"
      ],
      "metadata": {
        "id": "t2Pnf6SjuvXS"
      },
      "execution_count": null,
      "outputs": []
    },
    {
      "cell_type": "markdown",
      "source": [
        "*1. What is the norm of vectors v and Av?*"
      ],
      "metadata": {
        "id": "PRxWWitwwjC8"
      }
    },
    {
      "cell_type": "code",
      "source": [
        "AV=np.dot(A,v)\n",
        "print(\"norm of v: \"+str(np.linalg.norm(v)))\n",
        "print(\"norm of Av: \"+str(np.linalg.norm(AV)))"
      ],
      "metadata": {
        "colab": {
          "base_uri": "https://localhost:8080/"
        },
        "id": "P5LTw5qawh5I",
        "outputId": "0af16e07-08d5-4546-8fb7-e7401b7f13e7"
      },
      "execution_count": null,
      "outputs": [
        {
          "output_type": "stream",
          "name": "stdout",
          "text": [
            "norm of v: 1.4142135623730951\n",
            "norm of Av: 1.4142135623730951\n"
          ]
        }
      ]
    },
    {
      "cell_type": "markdown",
      "source": [
        "*2. Is the matrix A orthogonal?*"
      ],
      "metadata": {
        "id": "I5Z0ZbeAwxbb"
      }
    },
    {
      "cell_type": "code",
      "source": [
        "AT=A.transpose()\n",
        "AT=np.round(AT,5)\n",
        "A_inv=np.linalg.inv(A)\n",
        "print(np.allclose(AT,A_inv,1,1e5))"
      ],
      "metadata": {
        "colab": {
          "base_uri": "https://localhost:8080/"
        },
        "id": "iRlhSb0Xw13R",
        "outputId": "396d5805-3541-43f5-c510-7f9761ff6cc8"
      },
      "execution_count": null,
      "outputs": [
        {
          "output_type": "stream",
          "name": "stdout",
          "text": [
            "True\n"
          ]
        }
      ]
    }
  ]
}