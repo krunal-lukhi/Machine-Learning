{
  "nbformat": 4,
  "nbformat_minor": 0,
  "metadata": {
    "colab": {
      "name": "201901449_Assignment9.ipynb",
      "provenance": []
    },
    "kernelspec": {
      "name": "python3",
      "display_name": "Python 3"
    },
    "language_info": {
      "name": "python"
    }
  },
  "cells": [
    {
      "cell_type": "markdown",
      "source": [
        "Machine Learning (IE406)"
      ],
      "metadata": {
        "id": "oBsxx_DMZ8Fs"
      }
    },
    {
      "cell_type": "markdown",
      "source": [
        "Assignment 9"
      ],
      "metadata": {
        "id": "DbB_v6OuaFrC"
      }
    },
    {
      "cell_type": "markdown",
      "source": [
        "Krunal Lukhi 201901449"
      ],
      "metadata": {
        "id": "3eUuawpKaHeT"
      }
    },
    {
      "cell_type": "code",
      "execution_count": null,
      "metadata": {
        "id": "0py9ZmvZVVI9"
      },
      "outputs": [],
      "source": [
        "import pandas as pd\n",
        "import numpy as np\n",
        "from math import sqrt\n",
        "from sklearn.metrics import mean_squared_error \n",
        "import matplotlib.pyplot as plt\n",
        "from sklearn.metrics import classification_report, confusion_matrix\n",
        "from sklearn.metrics import accuracy_score\n",
        "from sklearn.preprocessing import MinMaxScaler\n",
        "from sklearn.preprocessing import StandardScaler\n",
        "from sklearn.preprocessing import Normalizer\n",
        "from sklearn.model_selection import train_test_split\n",
        "from sklearn.svm import SVC \n",
        "from matplotlib.colors import ListedColormap\n",
        "from mlxtend.plotting import plot_decision_regions\n"
      ]
    },
    {
      "cell_type": "markdown",
      "source": [
        "Importing data"
      ],
      "metadata": {
        "id": "f_xTPUdEYX0J"
      }
    },
    {
      "cell_type": "code",
      "source": [
        "data = pd.read_csv(\"Iris.csv\")\n",
        "data.head()"
      ],
      "metadata": {
        "colab": {
          "base_uri": "https://localhost:8080/",
          "height": 357
        },
        "id": "fJwnaYPlWHrv",
        "outputId": "4b6961d7-efd0-4103-c182-5c1d0832665f"
      },
      "execution_count": null,
      "outputs": [
        {
          "output_type": "execute_result",
          "data": {
            "text/plain": [
              "   Id  SepalLengthCm  SepalWidthCm  PetalLengthCm  PetalWidthCm      Species\n",
              "0   1            5.1           3.5            1.4           0.2  Iris-setosa\n",
              "1   2            4.9           3.0            1.4           0.2  Iris-setosa\n",
              "2   3            4.7           3.2            1.3           0.2  Iris-setosa\n",
              "3   4            4.6           3.1            1.5           0.2  Iris-setosa\n",
              "4   5            5.0           3.6            1.4           0.2  Iris-setosa"
            ],
            "text/html": [
              "\n",
              "  <div id=\"df-5f12b7a2-f129-4b4b-a83a-5f8c43e17a35\">\n",
              "    <div class=\"colab-df-container\">\n",
              "      <div>\n",
              "<style scoped>\n",
              "    .dataframe tbody tr th:only-of-type {\n",
              "        vertical-align: middle;\n",
              "    }\n",
              "\n",
              "    .dataframe tbody tr th {\n",
              "        vertical-align: top;\n",
              "    }\n",
              "\n",
              "    .dataframe thead th {\n",
              "        text-align: right;\n",
              "    }\n",
              "</style>\n",
              "<table border=\"1\" class=\"dataframe\">\n",
              "  <thead>\n",
              "    <tr style=\"text-align: right;\">\n",
              "      <th></th>\n",
              "      <th>Id</th>\n",
              "      <th>SepalLengthCm</th>\n",
              "      <th>SepalWidthCm</th>\n",
              "      <th>PetalLengthCm</th>\n",
              "      <th>PetalWidthCm</th>\n",
              "      <th>Species</th>\n",
              "    </tr>\n",
              "  </thead>\n",
              "  <tbody>\n",
              "    <tr>\n",
              "      <th>0</th>\n",
              "      <td>1</td>\n",
              "      <td>5.1</td>\n",
              "      <td>3.5</td>\n",
              "      <td>1.4</td>\n",
              "      <td>0.2</td>\n",
              "      <td>Iris-setosa</td>\n",
              "    </tr>\n",
              "    <tr>\n",
              "      <th>1</th>\n",
              "      <td>2</td>\n",
              "      <td>4.9</td>\n",
              "      <td>3.0</td>\n",
              "      <td>1.4</td>\n",
              "      <td>0.2</td>\n",
              "      <td>Iris-setosa</td>\n",
              "    </tr>\n",
              "    <tr>\n",
              "      <th>2</th>\n",
              "      <td>3</td>\n",
              "      <td>4.7</td>\n",
              "      <td>3.2</td>\n",
              "      <td>1.3</td>\n",
              "      <td>0.2</td>\n",
              "      <td>Iris-setosa</td>\n",
              "    </tr>\n",
              "    <tr>\n",
              "      <th>3</th>\n",
              "      <td>4</td>\n",
              "      <td>4.6</td>\n",
              "      <td>3.1</td>\n",
              "      <td>1.5</td>\n",
              "      <td>0.2</td>\n",
              "      <td>Iris-setosa</td>\n",
              "    </tr>\n",
              "    <tr>\n",
              "      <th>4</th>\n",
              "      <td>5</td>\n",
              "      <td>5.0</td>\n",
              "      <td>3.6</td>\n",
              "      <td>1.4</td>\n",
              "      <td>0.2</td>\n",
              "      <td>Iris-setosa</td>\n",
              "    </tr>\n",
              "  </tbody>\n",
              "</table>\n",
              "</div>\n",
              "      <button class=\"colab-df-convert\" onclick=\"convertToInteractive('df-5f12b7a2-f129-4b4b-a83a-5f8c43e17a35')\"\n",
              "              title=\"Convert this dataframe to an interactive table.\"\n",
              "              style=\"display:none;\">\n",
              "        \n",
              "  <svg xmlns=\"http://www.w3.org/2000/svg\" height=\"24px\"viewBox=\"0 0 24 24\"\n",
              "       width=\"24px\">\n",
              "    <path d=\"M0 0h24v24H0V0z\" fill=\"none\"/>\n",
              "    <path d=\"M18.56 5.44l.94 2.06.94-2.06 2.06-.94-2.06-.94-.94-2.06-.94 2.06-2.06.94zm-11 1L8.5 8.5l.94-2.06 2.06-.94-2.06-.94L8.5 2.5l-.94 2.06-2.06.94zm10 10l.94 2.06.94-2.06 2.06-.94-2.06-.94-.94-2.06-.94 2.06-2.06.94z\"/><path d=\"M17.41 7.96l-1.37-1.37c-.4-.4-.92-.59-1.43-.59-.52 0-1.04.2-1.43.59L10.3 9.45l-7.72 7.72c-.78.78-.78 2.05 0 2.83L4 21.41c.39.39.9.59 1.41.59.51 0 1.02-.2 1.41-.59l7.78-7.78 2.81-2.81c.8-.78.8-2.07 0-2.86zM5.41 20L4 18.59l7.72-7.72 1.47 1.35L5.41 20z\"/>\n",
              "  </svg>\n",
              "      </button>\n",
              "      \n",
              "  <style>\n",
              "    .colab-df-container {\n",
              "      display:flex;\n",
              "      flex-wrap:wrap;\n",
              "      gap: 12px;\n",
              "    }\n",
              "\n",
              "    .colab-df-convert {\n",
              "      background-color: #E8F0FE;\n",
              "      border: none;\n",
              "      border-radius: 50%;\n",
              "      cursor: pointer;\n",
              "      display: none;\n",
              "      fill: #1967D2;\n",
              "      height: 32px;\n",
              "      padding: 0 0 0 0;\n",
              "      width: 32px;\n",
              "    }\n",
              "\n",
              "    .colab-df-convert:hover {\n",
              "      background-color: #E2EBFA;\n",
              "      box-shadow: 0px 1px 2px rgba(60, 64, 67, 0.3), 0px 1px 3px 1px rgba(60, 64, 67, 0.15);\n",
              "      fill: #174EA6;\n",
              "    }\n",
              "\n",
              "    [theme=dark] .colab-df-convert {\n",
              "      background-color: #3B4455;\n",
              "      fill: #D2E3FC;\n",
              "    }\n",
              "\n",
              "    [theme=dark] .colab-df-convert:hover {\n",
              "      background-color: #434B5C;\n",
              "      box-shadow: 0px 1px 3px 1px rgba(0, 0, 0, 0.15);\n",
              "      filter: drop-shadow(0px 1px 2px rgba(0, 0, 0, 0.3));\n",
              "      fill: #FFFFFF;\n",
              "    }\n",
              "  </style>\n",
              "\n",
              "      <script>\n",
              "        const buttonEl =\n",
              "          document.querySelector('#df-5f12b7a2-f129-4b4b-a83a-5f8c43e17a35 button.colab-df-convert');\n",
              "        buttonEl.style.display =\n",
              "          google.colab.kernel.accessAllowed ? 'block' : 'none';\n",
              "\n",
              "        async function convertToInteractive(key) {\n",
              "          const element = document.querySelector('#df-5f12b7a2-f129-4b4b-a83a-5f8c43e17a35');\n",
              "          const dataTable =\n",
              "            await google.colab.kernel.invokeFunction('convertToInteractive',\n",
              "                                                     [key], {});\n",
              "          if (!dataTable) return;\n",
              "\n",
              "          const docLinkHtml = 'Like what you see? Visit the ' +\n",
              "            '<a target=\"_blank\" href=https://colab.research.google.com/notebooks/data_table.ipynb>data table notebook</a>'\n",
              "            + ' to learn more about interactive tables.';\n",
              "          element.innerHTML = '';\n",
              "          dataTable['output_type'] = 'display_data';\n",
              "          await google.colab.output.renderOutput(dataTable, element);\n",
              "          const docLink = document.createElement('div');\n",
              "          docLink.innerHTML = docLinkHtml;\n",
              "          element.appendChild(docLink);\n",
              "        }\n",
              "      </script>\n",
              "    </div>\n",
              "  </div>\n",
              "  "
            ]
          },
          "metadata": {},
          "execution_count": 16
        }
      ]
    },
    {
      "cell_type": "markdown",
      "source": [
        "Feature Extraction"
      ],
      "metadata": {
        "id": "ZYfKmT8gYVnx"
      }
    },
    {
      "cell_type": "code",
      "source": [
        "X1=np.array(data[['SepalLengthCm','SepalWidthCm']])#'PetalLengthCm','PetalWidthCm']])\n",
        "X1=X1.reshape(len(X1),2)\n",
        "X1=X1[0:100,:]\n",
        "Y=np.array(data['Species'])\n",
        "\n",
        "\n",
        "for i in range(100):\n",
        "  if(Y[i]=='Iris-setosa'):\n",
        "    Y[i]=0\n",
        "  elif(Y[i]=='Iris-versicolor'):\n",
        "    Y[i]=1\n",
        "  else:\n",
        "    Y[i]=2\n",
        "Y1=Y[0:100]\n",
        "Y1=Y1.astype('int')\n",
        "print(X1.shape)\n",
        "print(Y1.shape)"
      ],
      "metadata": {
        "id": "8A31B9ATW1sx",
        "colab": {
          "base_uri": "https://localhost:8080/"
        },
        "outputId": "38e51a8c-eb1e-4b81-822f-9e81c1b421f7"
      },
      "execution_count": null,
      "outputs": [
        {
          "output_type": "stream",
          "name": "stdout",
          "text": [
            "(100, 2)\n",
            "(100,)\n"
          ]
        }
      ]
    },
    {
      "cell_type": "markdown",
      "source": [
        "Visualization of data"
      ],
      "metadata": {
        "id": "9yYO0xJRYRfD"
      }
    },
    {
      "cell_type": "code",
      "source": [
        "fig= plt.figure()\n",
        "ax = fig.add_subplot()\n",
        "ax.scatter(X1[:50,0],X1[:50,1],color='r')\n",
        "ax.scatter(X1[50:100,0],X1[50:100,1],color='b')\n",
        "ax.set_xlabel('SepalLengthCm')\n",
        "ax.set_ylabel('SepalWidthCm')\n",
        "ax.legend(['Iris-setosa','Iris-versicolor'])\n",
        "plt.show()"
      ],
      "metadata": {
        "colab": {
          "base_uri": "https://localhost:8080/",
          "height": 238
        },
        "id": "II85JBqCYxYT",
        "outputId": "46358c77-3c99-459e-ce9c-ea0536c36cb3"
      },
      "execution_count": null,
      "outputs": [
        {
          "output_type": "display_data",
          "data": {
            "text/plain": [
              "<Figure size 432x288 with 1 Axes>"
            ],
            "image/png": "[encoded data removed]"
          },
          "metadata": {
            "needs_background": "light"
          }
        }
      ]
    },
    {
      "cell_type": "markdown",
      "source": [
        "Feature Normalization"
      ],
      "metadata": {
        "id": "DvWxDS_CYPBw"
      }
    },
    {
      "cell_type": "code",
      "source": [
        "scaler = StandardScaler() #MinMAxScaler()\n",
        "X1_train_normal= scaler.fit_transform(X1)\n",
        "#X_test_normal=scaler.fit_transform(X_test)\n"
      ],
      "metadata": {
        "id": "AZhATrwbXVIC"
      },
      "execution_count": null,
      "outputs": []
    },
    {
      "cell_type": "markdown",
      "source": [
        "Fitting data"
      ],
      "metadata": {
        "id": "cf1H143KYNqd"
      }
    },
    {
      "cell_type": "code",
      "source": [
        "classifier = SVC(kernel='linear', random_state=0)\n",
        "classifier.fit(X1_train_normal, Y1)\n"
      ],
      "metadata": {
        "colab": {
          "base_uri": "https://localhost:8080/"
        },
        "id": "uwmsBJp5XxP9",
        "outputId": "638fdaef-644a-44a7-9047-cc2fb8e5a878"
      },
      "execution_count": null,
      "outputs": [
        {
          "output_type": "execute_result",
          "data": {
            "text/plain": [
              "SVC(kernel='linear', random_state=0)"
            ]
          },
          "metadata": {},
          "execution_count": 20
        }
      ]
    },
    {
      "cell_type": "markdown",
      "source": [
        "Ploting classification results"
      ],
      "metadata": {
        "id": "RZSdQL6_YK80"
      }
    },
    {
      "cell_type": "code",
      "source": [
        "plot_decision_regions(X1_train_normal, Y1, clf=classifier, legend=2)\n",
        "plt.xlabel('SepalLengthCm')\n",
        "plt.ylabel('SepalWidthCm')\n",
        "#plt.legend(['Iris-setosa','Iris-versicolor'])\n",
        "plt.title('Iris-setosa=0, Iris-versicolor=1')\n",
        "plt.show()"
      ],
      "metadata": {
        "colab": {
          "base_uri": "https://localhost:8080/",
          "height": 306
        },
        "id": "60PZlVGiZZZ-",
        "outputId": "02dd16d4-13cd-4a86-a498-db6a33f372b3"
      },
      "execution_count": null,
      "outputs": [
        {
          "output_type": "stream",
          "name": "stderr",
          "text": [
            "/usr/local/lib/python3.7/dist-packages/mlxtend/plotting/decision_regions.py:244: MatplotlibDeprecationWarning: Passing unsupported keyword arguments to axis() will raise a TypeError in 3.3.\n",
            "  ax.axis(xmin=xx.min(), xmax=xx.max(), y_min=yy.min(), y_max=yy.max())\n"
          ]
        },
        {
          "output_type": "display_data",
          "data": {
            "text/plain": [
              "<Figure size 432x288 with 1 Axes>"
            ],
            "image/png": "[encoded data removed]"
          },
          "metadata": {
            "needs_background": "light"
          }
        }
      ]
    },
    {
      "cell_type": "markdown",
      "source": [
        "Splitting data into 3 parts"
      ],
      "metadata": {
        "id": "JAfW7ijnYG2z"
      }
    },
    {
      "cell_type": "code",
      "source": [
        "X_train,X_test, Y_train, Y_test= train_test_split(X1,Y1,test_size=0.2, random_state=42)\n",
        "X_test,X_val, Y_test, Y_val= train_test_split(X_test,Y_test,test_size=0.5, random_state=42)"
      ],
      "metadata": {
        "id": "0mXG5On3dito"
      },
      "execution_count": null,
      "outputs": []
    },
    {
      "cell_type": "markdown",
      "source": [
        "Feature Normalization"
      ],
      "metadata": {
        "id": "hB7s6wuFYBFz"
      }
    },
    {
      "cell_type": "code",
      "source": [
        "scaler = StandardScaler() #MinMAxScaler()\n",
        "X_train_normal= scaler.fit_transform(X_train)\n",
        "X_test_normal=scaler.fit_transform(X_test)\n",
        "X_val_normal=scaler.fit_transform(X_val)"
      ],
      "metadata": {
        "id": "MgIvxVFae6qb"
      },
      "execution_count": null,
      "outputs": []
    },
    {
      "cell_type": "markdown",
      "source": [
        "Utilization of Validation Set"
      ],
      "metadata": {
        "id": "ssrDlHK2X4oV"
      }
    },
    {
      "cell_type": "code",
      "source": [
        "C_best=0\n",
        "C_cur=1;\n",
        "acr_best=0\n",
        "for i in range(-1,5,1):\n",
        "\n",
        "  C_cur=pow(10,i)\n",
        "  clf = SVC(kernel='linear',C=C_cur, random_state=0)\n",
        "  clf.fit(X_train_normal, Y_train)\n",
        "  acr=clf.score(X_val_normal,Y_val)\n",
        "  if acr_best<acr:\n",
        "    acr_best=acr\n",
        "    C_best=C_cur\n",
        "\n",
        "clf = SVC(kernel='linear',C=C_best, random_state=0)\n",
        "clf.fit(X_train_normal, Y_train)\n",
        "acr=clf.score(X_test_normal,Y_test)\n",
        "print(\"Accuracy: \",acr*100,\"%\")"
      ],
      "metadata": {
        "colab": {
          "base_uri": "https://localhost:8080/"
        },
        "id": "yFqTEweWfQiI",
        "outputId": "563e9464-6b8f-4414-b5c8-07206c1a85de"
      },
      "execution_count": null,
      "outputs": [
        {
          "output_type": "stream",
          "name": "stdout",
          "text": [
            "Accuracy:  90.0 %\n"
          ]
        }
      ]
    }
  ]
}