{
  "cells": [
    {
      "cell_type": "markdown",
      "source": [
        "**Machine Learning(IE406)**\n",
        "\n",
        "\n"
      ],
      "metadata": {
        "id": "yO7kBNxSY2R5"
      }
    },
    {
      "cell_type": "markdown",
      "source": [
        "Lukhi Krunalkumar (201901449)\n",
        "\n",
        "\n"
      ],
      "metadata": {
        "id": "UYyMo1foY-ot"
      }
    },
    {
      "cell_type": "code",
      "execution_count": null,
      "metadata": {
        "id": "c8y6uD4D14TX"
      },
      "outputs": [],
      "source": [
        "from sympy import *\n",
        "from sklearn import linear_model\n",
        "from sklearn.model_selection import train_test_split\n",
        "import numpy as np\n",
        "import pandas as pd\n",
        "import matplotlib.pyplot as plt\n",
        "import numpy.linalg as npla\n"
      ]
    },
    {
      "cell_type": "markdown",
      "source": [
        "**Normalization**"
      ],
      "metadata": {
        "id": "srxzcBOnaQG9"
      }
    },
    {
      "cell_type": "code",
      "source": [
        "def Normalization(dt):\n",
        "  \n",
        "  for i in range(1,dt.shape[1]):\n",
        "    std=dt[:,i].std()\n",
        "    mean=dt[:,i].mean()\n",
        "    dt[:,i]=(dt[:,i]-mean)/std\n",
        "\n",
        "  return dt"
      ],
      "metadata": {
        "id": "r_sivMndGWfY"
      },
      "execution_count": null,
      "outputs": []
    },
    {
      "cell_type": "markdown",
      "source": [
        "**Cost Function**"
      ],
      "metadata": {
        "id": "rf_RmrNGa4lb"
      }
    },
    {
      "cell_type": "code",
      "source": [
        "def Cost(X, y, wt,lamda):\n",
        "  s = 0;\n",
        "  m=y.size\n",
        "  s=s+ np.matmul(y - X.dot(wt), y - X.dot(wt))\n",
        "  wt = np.absolute(wt)\n",
        "  Answer=(s + (lamda * sum(wt))) / m\n",
        "  return s"
      ],
      "metadata": {
        "id": "OqGSXyzzKxi4"
      },
      "execution_count": null,
      "outputs": []
    },
    {
      "cell_type": "markdown",
      "source": [
        "**Gradient Descent**"
      ],
      "metadata": {
        "id": "Kz2ucR4SbyPm"
      }
    },
    {
      "cell_type": "code",
      "source": [
        "def Gradient_Descent(X, y, wt, lr, max_itr):\n",
        "  m = y.size;\n",
        "  n = float(X.shape[0])\n",
        "  \n",
        "  for _ in range(max_itr):\n",
        "    wt = wt + 2 * (lr/n) * (X.T.dot(y -(X.dot(wt))) )\n",
        "  \n",
        "  return wt"
      ],
      "metadata": {
        "id": "Ly4sB1xfGo9F"
      },
      "execution_count": null,
      "outputs": []
    },
    {
      "cell_type": "markdown",
      "source": [
        "**Lasso Regression**"
      ],
      "metadata": {
        "id": "4v7X8-5vcYdg"
      }
    },
    {
      "cell_type": "code",
      "source": [
        "def Lasso_Regression(wt, X, y, max_itr, lam, cost_arr):\n",
        "  wt_1=np.zeros(len(wt))\n",
        "  \n",
        "  for i in range(0,len(wt)):\n",
        "    wt_1[i]=wt[i]\n",
        "\n",
        "  for i in range(100):\n",
        "    Z = Gradient_Descent(X,y,wt,max_itr,1000)\n",
        "    F = float((lam*itr)/2)\n",
        "    \n",
        "    for j in range(0,len(wt)):\n",
        "      wt_1[j] = wt[j]\n",
        "    \n",
        "    for j in range(0,len(wt)):\n",
        "      if(Z[j]<False and Z[j]>-1*F):\n",
        "        wt_1[j]=0\n",
        "      elif(Z[j]>F):\n",
        "        wt_1[j] = Z[j] - F\n",
        "      else:\n",
        "        wt_1[j] = Z[j] + F\n",
        "\n",
        "    S=0.00\n",
        "    for j in range(0,len(wt)-1):\n",
        "       S = S + float(abs( wt_1[j] - float(wt[j]) ))\n",
        "\n",
        "    if(S<1e-5):\n",
        "      return wt_1\n",
        "\n",
        "    for j in range(0,len(wt)):\n",
        "      wt[j] = wt_1[j]\n",
        "\n",
        "    cost_arr.append(Cost(X, y, wt, lam));\n",
        "  return wt_1;"
      ],
      "metadata": {
        "id": "TrUg-2cFHO4d"
      },
      "execution_count": null,
      "outputs": []
    },
    {
      "cell_type": "markdown",
      "source": [
        "**Prediction**"
      ],
      "metadata": {
        "id": "qSBpjzIleN96"
      }
    },
    {
      "cell_type": "code",
      "source": [
        "def predict(X, wt):\n",
        "  return X.dot(wt)"
      ],
      "metadata": {
        "id": "tQ4INqoIMNMh"
      },
      "execution_count": null,
      "outputs": []
    },
    {
      "cell_type": "markdown",
      "source": [
        "**Import from csv file**"
      ],
      "metadata": {
        "id": "x2EtmR_HeyZu"
      }
    },
    {
      "cell_type": "code",
      "source": [
        "DF = pd.read_csv('Admission_Predict.csv');\n",
        "dt = Normalization(DF.to_numpy())\n",
        "y = dt[:, 8]\n",
        "lamda=0.001\n",
        "wt=[150.00,100.00,50.00,100.00,150.00,200.00,200.00,50.00]\n",
        "itr=0.0004\n",
        "cost_arr=[]\n",
        "\n",
        "X=np.stack((np.ones(dt.shape[0]),dt[:, 1],dt[:,2],dt[:,3],dt[:,4],dt[:,5],dt[:, 6],dt[:,7]),axis=-1)\n",
        "X_trained, X_test, Y_trained, Y_test = train_test_split(X,y,test_size=0.2, random_state=1)\n",
        "\n",
        "wt=Lasso_Regression(wt,X_trained,Y_trained,itr,lamda,cost_arr)\n",
        "\n",
        "print(\"Theta Values: \")\n",
        "print(wt)\n",
        "\n",
        "y_prdct = predict(X_test,wt)\n",
        "figure=plt.figure()\n",
        "ax=figure.add_subplot()\n",
        "ax.plot(range(len(cost_arr)),cost_arr,)\n",
        "ax.set_title(\"Convergence Graph\")\n",
        "ax.set_xlabel(\"Iterations\")\n",
        "ax.set_ylabel(\"Cost\")\n",
        "plt.show()"
      ],
      "metadata": {
        "colab": {
          "base_uri": "https://localhost:8080/",
          "height": 348
        },
        "id": "saTeJ8InIR4r",
        "outputId": "23248834-f8e4-4b0c-fbbd-9ebdf040e210"
      },
      "execution_count": null,
      "outputs": [
        {
          "output_type": "stream",
          "name": "stdout",
          "text": [
            "Theta Values: \n",
            "[ 0.016016    0.12132296  0.13383029  0.06606024 -0.03990396  0.1367954\n",
            "  0.48264942  0.09122663]\n"
          ]
        },
        {
          "output_type": "display_data",
          "data": {
            "image/png": "[encoded data removed]",
            "text/plain": [
              "<Figure size 432x288 with 1 Axes>"
            ]
          },
          "metadata": {
            "needs_background": "light"
          }
        }
      ]
    },
    {
      "cell_type": "markdown",
      "source": [
        "**Inbuilt Lasso Regression Function**"
      ],
      "metadata": {
        "id": "TIIbYv9RhOzs"
      }
    },
    {
      "cell_type": "code",
      "source": [
        "DF=pd.read_csv('Admission_Predict.csv');\n",
        "dt = Normalization(DF.to_numpy())\n",
        "y = dt[:, 8]\n",
        "lamda=0.001\n",
        "\n",
        "X = np.stack((dt[:, 1],dt[:,2],dt[:,3],dt[:,4],dt[:,5],dt[:, 6],dt[:,7]),axis=-1)\n",
        "X_trained, X_test, Y_trained, Y_test = train_test_split(X, y, test_size=0.2, random_state=1)\n",
        "\n",
        "reg = linear_model.Lasso(alpha=lamda);\n",
        "reg.fit(X_trained,Y_trained)\n",
        "print(\"Theta values: \")\n",
        "print([reg.intercept_],reg.coef_)\n",
        "\n",
        "\n",
        "Y_prdct = reg.predict(X_test)"
      ],
      "metadata": {
        "colab": {
          "base_uri": "https://localhost:8080/"
        },
        "id": "ZrK32FmQIY3Z",
        "outputId": "f52562a8-8190-4faf-aacd-cfbea1362b4b"
      },
      "execution_count": null,
      "outputs": [
        {
          "output_type": "stream",
          "name": "stdout",
          "text": [
            "Theta values: \n",
            "[0.01599612954614453] [ 0.12214211  0.13258788  0.06362378 -0.03374715  0.13431583  0.48154424\n",
            "  0.09031626]\n"
          ]
        }
      ]
    },
    {
      "cell_type": "markdown",
      "source": [
        "We can see that theta values of my lasso regression implemetation and inbuilt function of lasso regressions are very close."
      ],
      "metadata": {
        "id": "LLmp4rImjq8T"
      }
    }
  ],
  "metadata": {
    "colab": {
      "collapsed_sections": [],
      "name": "201901449_assignment4.ipynb",
      "provenance": []
    },
    "kernelspec": {
      "display_name": "Python 3",
      "name": "python3"
    },
    "language_info": {
      "codemirror_mode": {
        "name": "ipython",
        "version": 3
      },
      "file_extension": ".py",
      "mimetype": "text/x-python",
      "name": "python",
      "nbconvert_exporter": "python",
      "pygments_lexer": "ipython3",
      "version": "3.10.2"
    }
  },
  "nbformat": 4,
  "nbformat_minor": 0
}