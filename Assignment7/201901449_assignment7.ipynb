{
  "nbformat": 4,
  "nbformat_minor": 0,
  "metadata": {
    "colab": {
      "name": "201901449_assignment7.ipynb",
      "provenance": []
    },
    "kernelspec": {
      "name": "python3",
      "display_name": "Python 3"
    },
    "language_info": {
      "name": "python"
    }
  },
  "cells": [
    {
      "cell_type": "markdown",
      "source": [
        "Machine Learning(IE406)"
      ],
      "metadata": {
        "id": "lQzf2CPLghv0"
      }
    },
    {
      "cell_type": "markdown",
      "source": [
        "Assignment 7"
      ],
      "metadata": {
        "id": "qEeiTpXDgskF"
      }
    },
    {
      "cell_type": "markdown",
      "source": [
        "Krunal Lukhi - 201901449"
      ],
      "metadata": {
        "id": "sc4x3NYxgoqZ"
      }
    },
    {
      "cell_type": "code",
      "execution_count": null,
      "metadata": {
        "id": "AzhgY1lNSckV"
      },
      "outputs": [],
      "source": [
        "import pandas as pd\n",
        "import numpy as np\n",
        "import matplotlib.pyplot as plt\n",
        "from sklearn.metrics import log_loss\n",
        "from sklearn import linear_model\n",
        "from sklearn.preprocessing import MinMaxScaler\n",
        "from sklearn.preprocessing import StandardScaler\n",
        "from sklearn.preprocessing import Normalizer\n",
        "from sklearn.model_selection import train_test_split\n",
        "from sklearn.linear_model import LogisticRegression"
      ]
    },
    {
      "cell_type": "code",
      "source": [
        "data = pd.read_csv(\"sample.csv\")\n",
        "print(data)"
      ],
      "metadata": {
        "colab": {
          "base_uri": "https://localhost:8080/"
        },
        "id": "p4awANMeTE-6",
        "outputId": "ee41316c-31c5-4ce9-fa70-b3da9c7aa189"
      },
      "execution_count": null,
      "outputs": [
        {
          "output_type": "stream",
          "name": "stdout",
          "text": [
            "     female  read  write  math  hon  femalexmath\n",
            "0         0    57     52    41    0            0\n",
            "1         1    68     59    53    0           53\n",
            "2         0    44     33    54    0            0\n",
            "3         0    63     44    47    0            0\n",
            "4         0    47     52    57    0            0\n",
            "..      ...   ...    ...   ...  ...          ...\n",
            "195       1    55     59    52    0           52\n",
            "196       1    42     46    38    0           38\n",
            "197       1    57     41    57    0           57\n",
            "198       1    55     62    58    1           58\n",
            "199       1    63     65    65    1           65\n",
            "\n",
            "[200 rows x 6 columns]\n"
          ]
        }
      ]
    },
    {
      "cell_type": "markdown",
      "source": [
        "Uncomment #MinMaxScaler() to change standardization to MinMax normalization"
      ],
      "metadata": {
        "id": "BPQV7lhk_0dD"
      }
    },
    {
      "cell_type": "markdown",
      "source": [
        "Classification using 'math' feature"
      ],
      "metadata": {
        "id": "qyToe75Bhwqg"
      }
    },
    {
      "cell_type": "code",
      "source": [
        "X1 = np.array(data['math'])\n",
        "Y1 = np.array(data['hon'])\n",
        "plt.scatter(X1,Y1);\n",
        "plt.xlabel('math')\n",
        "plt.ylabel('hon')\n",
        "plt.show()\n",
        "X1=X1.reshape(len(X1),1)\n",
        "\n",
        "X1_train, X1_test, Y1_train, Y1_test = train_test_split(X1, Y1, test_size=0.2)\n",
        "scaler1 = StandardScaler() #MinMaxScaler() \n",
        "X1_train_normal= scaler1.fit_transform(X1_train)\n",
        "X1_test_normal=scaler1.fit_transform(X1_test)\n",
        "lr1 = LogisticRegression()\n",
        "lr1.fit(X1_train_normal, Y1_train)\n",
        "Y1_est=lr1.predict(X1_train_normal)\n",
        "Y1_pred = lr1.predict(X1_test_normal)\n",
        "\n",
        "print(\"\\nLoss function: \",log_loss(Y1_train,Y1_est))\n",
        "print(\"Weight:\",lr1.coef_)\n",
        "print(\"Intercept: \",lr1.intercept_)\n",
        "print(\"Accuracy: \",lr1.score(X1_test_normal,Y1_test)*100,\"%\")"
      ],
      "metadata": {
        "colab": {
          "base_uri": "https://localhost:8080/",
          "height": 368
        },
        "id": "HnrN6p_pT_r5",
        "outputId": "fe3cb891-cb71-40b8-ea3b-ad0659021471"
      },
      "execution_count": null,
      "outputs": [
        {
          "output_type": "display_data",
          "data": {
            "text/plain": [
              "<Figure size 432x288 with 1 Axes>"
            ],
            "image/png": "[encoded data removed]"
          },
          "metadata": {
            "needs_background": "light"
          }
        },
        {
          "output_type": "stream",
          "name": "stdout",
          "text": [
            "\n",
            "Loss function:  7.339539958757908\n",
            "Weight: [[1.37378701]]\n",
            "Intercept:  [-1.31793287]\n",
            "Accuracy:  90.0 %\n"
          ]
        }
      ]
    },
    {
      "cell_type": "markdown",
      "source": [
        "Classification using 'female', 'read', 'write', and 'math' feature."
      ],
      "metadata": {
        "id": "HweF6nnShhSG"
      }
    },
    {
      "cell_type": "code",
      "source": [
        "X2 = np.array(data[['female','read','write','math']])\n",
        "Y2 = np.array(data['hon'])\n",
        "X2=X2.reshape(len(X2),4)\n",
        "\n",
        "X2_train, X2_test, Y2_train, Y2_test = train_test_split(X2, Y2, test_size=0.2)\n",
        "scaler2 = StandardScaler() #MinMAxScaler()\n",
        "X2_train_normal= scaler2.fit_transform(X2_train)\n",
        "X2_test_normal=scaler2.fit_transform(X2_test)\n",
        "lr2 = LogisticRegression()\n",
        "lr2.fit(X2_train_normal, Y2_train)\n",
        "Y2_est=lr2.predict(X2_train_normal)\n",
        "Y2_pred = lr2.predict(X2_test_normal)\n",
        "\n"
      ],
      "metadata": {
        "id": "aHVqDW56H1ao",
        "colab": {
          "base_uri": "https://localhost:8080/",
          "height": 240
        },
        "outputId": "66f562dc-c496-4790-8456-db6907b5e540"
      },
      "execution_count": null,
      "outputs": [
        {
          "output_type": "error",
          "ename": "NameError",
          "evalue": "ignored",
          "traceback": [
            "\u001b[0;31m---------------------------------------------------------------------------\u001b[0m",
            "\u001b[0;31mNameError\u001b[0m                                 Traceback (most recent call last)",
            "\u001b[0;32m<ipython-input-1-8ebbca2d0246>\u001b[0m in \u001b[0;36m<module>\u001b[0;34m()\u001b[0m\n\u001b[0;32m----> 1\u001b[0;31m \u001b[0mX2\u001b[0m \u001b[0;34m=\u001b[0m \u001b[0mnp\u001b[0m\u001b[0;34m.\u001b[0m\u001b[0marray\u001b[0m\u001b[0;34m(\u001b[0m\u001b[0mdata\u001b[0m\u001b[0;34m[\u001b[0m\u001b[0;34m[\u001b[0m\u001b[0;34m'female'\u001b[0m\u001b[0;34m,\u001b[0m\u001b[0;34m'read'\u001b[0m\u001b[0;34m,\u001b[0m\u001b[0;34m'write'\u001b[0m\u001b[0;34m,\u001b[0m\u001b[0;34m'math'\u001b[0m\u001b[0;34m]\u001b[0m\u001b[0;34m]\u001b[0m\u001b[0;34m)\u001b[0m\u001b[0;34m\u001b[0m\u001b[0;34m\u001b[0m\u001b[0m\n\u001b[0m\u001b[1;32m      2\u001b[0m \u001b[0mY2\u001b[0m \u001b[0;34m=\u001b[0m \u001b[0mnp\u001b[0m\u001b[0;34m.\u001b[0m\u001b[0marray\u001b[0m\u001b[0;34m(\u001b[0m\u001b[0mdata\u001b[0m\u001b[0;34m[\u001b[0m\u001b[0;34m'hon'\u001b[0m\u001b[0;34m]\u001b[0m\u001b[0;34m)\u001b[0m\u001b[0;34m\u001b[0m\u001b[0;34m\u001b[0m\u001b[0m\n\u001b[1;32m      3\u001b[0m \u001b[0mX2\u001b[0m\u001b[0;34m=\u001b[0m\u001b[0mX2\u001b[0m\u001b[0;34m.\u001b[0m\u001b[0mreshape\u001b[0m\u001b[0;34m(\u001b[0m\u001b[0mlen\u001b[0m\u001b[0;34m(\u001b[0m\u001b[0mX2\u001b[0m\u001b[0;34m)\u001b[0m\u001b[0;34m,\u001b[0m\u001b[0;36m4\u001b[0m\u001b[0;34m)\u001b[0m\u001b[0;34m\u001b[0m\u001b[0;34m\u001b[0m\u001b[0m\n\u001b[1;32m      4\u001b[0m \u001b[0;34m\u001b[0m\u001b[0m\n\u001b[1;32m      5\u001b[0m \u001b[0mX2_train\u001b[0m\u001b[0;34m,\u001b[0m \u001b[0mX2_test\u001b[0m\u001b[0;34m,\u001b[0m \u001b[0mY2_train\u001b[0m\u001b[0;34m,\u001b[0m \u001b[0mY2_test\u001b[0m \u001b[0;34m=\u001b[0m \u001b[0mtrain_test_split\u001b[0m\u001b[0;34m(\u001b[0m\u001b[0mX2\u001b[0m\u001b[0;34m,\u001b[0m \u001b[0mY2\u001b[0m\u001b[0;34m,\u001b[0m \u001b[0mtest_size\u001b[0m\u001b[0;34m=\u001b[0m\u001b[0;36m0.2\u001b[0m\u001b[0;34m)\u001b[0m\u001b[0;34m\u001b[0m\u001b[0;34m\u001b[0m\u001b[0m\n",
            "\u001b[0;31mNameError\u001b[0m: name 'np' is not defined"
          ]
        }
      ]
    },
    {
      "cell_type": "markdown",
      "source": [
        "**Oberevations:**\n",
        "1. Standardization produces better results for both cases as compared to MinMax Normalization.\n",
        "2. More number of features gives better estimate. i.e. more accurate predictions."
      ],
      "metadata": {
        "id": "XSPRESzRAixe"
      }
    }
  ]
}