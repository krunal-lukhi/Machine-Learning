{
  "nbformat": 4,
  "nbformat_minor": 0,
  "metadata": {
    "colab": {
      "name": "201901449_assignment8.ipynb",
      "provenance": []
    },
    "kernelspec": {
      "name": "python3",
      "display_name": "Python 3"
    },
    "language_info": {
      "name": "python"
    }
  },
  "cells": [
    {
      "cell_type": "markdown",
      "source": [
        "**Machine Learning (IE406)**"
      ],
      "metadata": {
        "id": "jSEe55uCOQvt"
      }
    },
    {
      "cell_type": "markdown",
      "source": [
        "Assignment 8"
      ],
      "metadata": {
        "id": "DuId_5c9Oc-7"
      }
    },
    {
      "cell_type": "markdown",
      "source": [
        "Krunal Lukhi 201901449"
      ],
      "metadata": {
        "id": "cKzdNWTaOYtW"
      }
    },
    {
      "cell_type": "code",
      "execution_count": null,
      "metadata": {
        "id": "7IKUmApMT7Go"
      },
      "outputs": [],
      "source": [
        "import pandas as pd\n",
        "import numpy as np\n",
        "from math import sqrt\n",
        "from sklearn.metrics import mean_squared_error \n",
        "import matplotlib.pyplot as plt\n",
        "from sklearn import linear_model\n",
        "from sklearn.metrics import classification_report, confusion_matrix\n",
        "from sklearn.metrics import accuracy_score\n",
        "from sklearn.preprocessing import MinMaxScaler\n",
        "from sklearn.preprocessing import StandardScaler\n",
        "from sklearn.preprocessing import Normalizer\n",
        "from sklearn.model_selection import train_test_split\n",
        "from sklearn.neighbors import KNeighborsRegressor\n",
        "from sklearn.neighbors import KNeighborsClassifier \n",
        "from sklearn.svm import SVC # \"Support vector classifier\""
      ]
    },
    {
      "cell_type": "markdown",
      "source": [
        "**Classification** "
      ],
      "metadata": {
        "id": "3WAu8Nn9lY66"
      }
    },
    {
      "cell_type": "markdown",
      "source": [
        "importing data "
      ],
      "metadata": {
        "id": "J8oaN3OZN8Tz"
      }
    },
    {
      "cell_type": "code",
      "source": [
        "data = pd.read_csv(\"Social_Network_Ads.csv\")\n",
        "print(data)"
      ],
      "metadata": {
        "colab": {
          "base_uri": "https://localhost:8080/"
        },
        "id": "4TVWAbuTUV5P",
        "outputId": "6934fd07-fc65-4958-bd25-30df3ba51fcb"
      },
      "execution_count": null,
      "outputs": [
        {
          "output_type": "stream",
          "name": "stdout",
          "text": [
            "      User ID  Gender  Age  EstimatedSalary  Purchased\n",
            "0    15624510    Male   19            19000          0\n",
            "1    15810944    Male   35            20000          0\n",
            "2    15668575  Female   26            43000          0\n",
            "3    15603246  Female   27            57000          0\n",
            "4    15804002    Male   19            76000          0\n",
            "..        ...     ...  ...              ...        ...\n",
            "395  15691863  Female   46            41000          1\n",
            "396  15706071    Male   51            23000          1\n",
            "397  15654296  Female   50            20000          1\n",
            "398  15755018    Male   36            33000          0\n",
            "399  15594041  Female   49            36000          1\n",
            "\n",
            "[400 rows x 5 columns]\n"
          ]
        }
      ]
    },
    {
      "cell_type": "markdown",
      "source": [
        "feature extraction"
      ],
      "metadata": {
        "id": "kfDDQafpN-in"
      }
    },
    {
      "cell_type": "code",
      "source": [
        "X2 = np.array(data[['Gender','Age','EstimatedSalary']])\n",
        "X2=X2.reshape(len(X2),3)\n",
        "Y2 = np.array(data['Purchased'])\n",
        "n,m=X2.shape\n",
        "for i in range(n):\n",
        "  if(X2[i][0]=='Male'):\n",
        "    X2[i][0]=1\n",
        "  else:\n",
        "    X2[i][0]=0;\n"
      ],
      "metadata": {
        "id": "fk3ENrGTXCFG"
      },
      "execution_count": null,
      "outputs": []
    },
    {
      "cell_type": "markdown",
      "source": [
        "spillitng and nomrmalizing data"
      ],
      "metadata": {
        "id": "4kbi4WmxOBYC"
      }
    },
    {
      "cell_type": "code",
      "source": [
        "X2_train, X2_test, Y2_train, Y2_test = train_test_split(X2, Y2, test_size=0.2)\n",
        "scaler2 = StandardScaler() #MinMAxScaler()\n",
        "X2_train_normal= scaler2.fit_transform(X2_train)\n",
        "X2_test_normal=scaler2.fit_transform(X2_test)"
      ],
      "metadata": {
        "id": "1el_ph1AYl6B"
      },
      "execution_count": null,
      "outputs": []
    },
    {
      "cell_type": "markdown",
      "source": [
        "5 neighbors and 'minkowski' distance matrix with p=2"
      ],
      "metadata": {
        "id": "m2W70-jxlDLt"
      }
    },
    {
      "cell_type": "code",
      "source": [
        "knn2 = KNeighborsClassifier(n_neighbors=5, metric='minkowski', p=2 ) \n",
        "knn2.fit(X2_train_normal, Y2_train)\n",
        "Y2_est=knn2.predict(X2_train_normal)\n",
        "Y2_pred = knn2.predict(X2_test_normal)"
      ],
      "metadata": {
        "id": "X1Lg07iKZ9AI"
      },
      "execution_count": null,
      "outputs": []
    },
    {
      "cell_type": "code",
      "source": [
        "print(\"Confusion Matrix: \\n\",confusion_matrix(Y2_test, Y2_pred))\n",
        "print(\"Classification Report: \\n\",classification_report(Y2_test, Y2_pred))\n"
      ],
      "metadata": {
        "colab": {
          "base_uri": "https://localhost:8080/"
        },
        "id": "N9090R8caG8c",
        "outputId": "97b46be5-b38a-4741-bb29-1fca78be38e7"
      },
      "execution_count": null,
      "outputs": [
        {
          "output_type": "stream",
          "name": "stdout",
          "text": [
            "Confusion Matrix: \n",
            " [[50  7]\n",
            " [ 3 20]]\n",
            "Classification Report: \n",
            "               precision    recall  f1-score   support\n",
            "\n",
            "           0       0.94      0.88      0.91        57\n",
            "           1       0.74      0.87      0.80        23\n",
            "\n",
            "    accuracy                           0.88        80\n",
            "   macro avg       0.84      0.87      0.85        80\n",
            "weighted avg       0.89      0.88      0.88        80\n",
            "\n"
          ]
        }
      ]
    },
    {
      "cell_type": "markdown",
      "source": [
        "10 neighbors and 'minkowski' distance matrix with p=5"
      ],
      "metadata": {
        "id": "wwKm_harlLH6"
      }
    },
    {
      "cell_type": "code",
      "source": [
        "knn3 = KNeighborsClassifier(n_neighbors=20, metric='minkowski', p=5 ) \n",
        "knn3.fit(X2_train_normal, Y2_train)\n",
        "Y3_est=knn3.predict(X2_train_normal)\n",
        "Y3_pred = knn3.predict(X2_test_normal)"
      ],
      "metadata": {
        "id": "OOHHWCMeiDJg"
      },
      "execution_count": null,
      "outputs": []
    },
    {
      "cell_type": "code",
      "source": [
        "print(\"Confusion Matrix: \\n\",confusion_matrix(Y2_test, Y3_pred))\n",
        "print(\"Classification Report: \\n\",classification_report(Y2_test, Y3_pred))\n"
      ],
      "metadata": {
        "colab": {
          "base_uri": "https://localhost:8080/"
        },
        "id": "IERqji2girKk",
        "outputId": "028c477a-352c-4000-cac7-22b10f20678f"
      },
      "execution_count": null,
      "outputs": [
        {
          "output_type": "stream",
          "name": "stdout",
          "text": [
            "Confusion Matrix: \n",
            " [[53  4]\n",
            " [ 4 19]]\n",
            "Classification Report: \n",
            "               precision    recall  f1-score   support\n",
            "\n",
            "           0       0.93      0.93      0.93        57\n",
            "           1       0.83      0.83      0.83        23\n",
            "\n",
            "    accuracy                           0.90        80\n",
            "   macro avg       0.88      0.88      0.88        80\n",
            "weighted avg       0.90      0.90      0.90        80\n",
            "\n"
          ]
        }
      ]
    },
    {
      "cell_type": "markdown",
      "source": [
        "2 neighbors and 'manhattan' distance matrix "
      ],
      "metadata": {
        "id": "FKKmw4lPlPtE"
      }
    },
    {
      "cell_type": "code",
      "source": [
        "knn4 = KNeighborsClassifier(n_neighbors=30, metric='manhattan') \n",
        "knn4.fit(X2_train_normal, Y2_train)\n",
        "Y4_est=knn4.predict(X2_train_normal)\n",
        "Y4_pred = knn4.predict(X2_test_normal)"
      ],
      "metadata": {
        "id": "DeLs66eEjlnW"
      },
      "execution_count": null,
      "outputs": []
    },
    {
      "cell_type": "code",
      "source": [
        "print(\"Confusion Matrix: \\n\",confusion_matrix(Y2_test, Y4_pred))\n",
        "print(\"Classification Report: \\n\",classification_report(Y2_test, Y4_pred))\n"
      ],
      "metadata": {
        "colab": {
          "base_uri": "https://localhost:8080/"
        },
        "id": "wJiHdFt_joU3",
        "outputId": "365a4d59-4761-4e00-b3b4-10eba0f3da69"
      },
      "execution_count": null,
      "outputs": [
        {
          "output_type": "stream",
          "name": "stdout",
          "text": [
            "Confusion Matrix: \n",
            " [[55  2]\n",
            " [ 5 18]]\n",
            "Classification Report: \n",
            "               precision    recall  f1-score   support\n",
            "\n",
            "           0       0.92      0.96      0.94        57\n",
            "           1       0.90      0.78      0.84        23\n",
            "\n",
            "    accuracy                           0.91        80\n",
            "   macro avg       0.91      0.87      0.89        80\n",
            "weighted avg       0.91      0.91      0.91        80\n",
            "\n"
          ]
        }
      ]
    },
    {
      "cell_type": "markdown",
      "source": [
        "**Observations:**\n",
        "\n",
        "\n",
        "1. If k is very low, accuracy is also low. The reason is that for lower values of k, we can have wrong prediction due to insufficient information. When k is high, the algorithm can be computationally expensive. So, we need to find optimal value of k manully. We can start with higher value of k and then keep decreasing it unitl we reach to stable accuracy. \n",
        "2. Keeping the distance matrix as 'minkowski', parameter p in KNeighborsClassifier function has very minimum effect on accuracy. p=1 implies 'manhattan' and p=2 implies 'euclidien' distance. \n",
        "\n",
        "\n"
      ],
      "metadata": {
        "id": "z6ZOevzGldUR"
      }
    },
    {
      "cell_type": "markdown",
      "source": [
        "**Regression**"
      ],
      "metadata": {
        "id": "Jl7CJTDo4llL"
      }
    },
    {
      "cell_type": "markdown",
      "source": [
        "importing data"
      ],
      "metadata": {
        "id": "jRdLKshQNzCh"
      }
    },
    {
      "cell_type": "code",
      "source": [
        "data = pd.read_csv(\"ahw_dataset.csv\")\n",
        "print(data)"
      ],
      "metadata": {
        "id": "LPl-NMhzlcia",
        "colab": {
          "base_uri": "https://localhost:8080/"
        },
        "outputId": "dba73024-cf71-44e8-85c3-972354cb37ef"
      },
      "execution_count": null,
      "outputs": [
        {
          "output_type": "stream",
          "name": "stdout",
          "text": [
            "     Index    Height    Weight  Age\n",
            "0        1  65.78331  112.9925   33\n",
            "1        2  71.51521  136.4873   34\n",
            "2        3  69.39874  153.0269   33\n",
            "3        4  68.21660  142.3354   48\n",
            "4        5  67.78781  144.2971   57\n",
            "..     ...       ...       ...  ...\n",
            "195    196  65.79799  120.8431   31\n",
            "196    197  66.10558  115.7813   40\n",
            "197    198  68.23987  128.3019   30\n",
            "198    199  68.02403  127.4718   33\n",
            "199    200  71.39044  127.8761   50\n",
            "\n",
            "[200 rows x 4 columns]\n"
          ]
        }
      ]
    },
    {
      "cell_type": "markdown",
      "source": [
        "feature extraction"
      ],
      "metadata": {
        "id": "Yf6U_c1cNyM7"
      }
    },
    {
      "cell_type": "code",
      "source": [
        "X1 = np.array(data[['Age','Height']])\n",
        "X1=X1.reshape(len(X1),2)\n",
        "Y1 = np.array(data['Weight'])"
      ],
      "metadata": {
        "id": "gNed-zBH5Yhu"
      },
      "execution_count": null,
      "outputs": []
    },
    {
      "cell_type": "markdown",
      "source": [
        "splitting data nad normalizing data"
      ],
      "metadata": {
        "id": "-S5WCYS8Ntr2"
      }
    },
    {
      "cell_type": "code",
      "source": [
        "X1_train, X1_test, Y1_train, Y1_test = train_test_split(X1, Y1, test_size=0.2)\n",
        "scaler1 = StandardScaler() #MinMAxScaler()\n",
        "X2_train_normal= scaler1.fit_transform(X1_train)\n",
        "X2_test_normal=scaler1.fit_transform(X1_test)"
      ],
      "metadata": {
        "id": "8pQg3KUo9Icd"
      },
      "execution_count": null,
      "outputs": []
    },
    {
      "cell_type": "markdown",
      "source": [
        "regression"
      ],
      "metadata": {
        "id": "VtiUsw20N1OP"
      }
    },
    {
      "cell_type": "code",
      "source": [
        "rmse_val=[]\n",
        "for k in range(1,26):\n",
        "  knn1=KNeighborsRegressor(n_neighbors=k)\n",
        "  knn1.fit(X1_train, Y1_train)  #fit the model\n",
        "  Y1_pred=knn1.predict(X1_test) #make prediction on test set\n",
        "  error = sqrt(mean_squared_error(Y1_test,Y1_pred)) #calculate rmse\n",
        "  rmse_val.append(error) #store rmse values\n",
        "  print('RMSE value for k= ' , k , 'is:', error)\n"
      ],
      "metadata": {
        "id": "L-554HOd9a4_",
        "colab": {
          "base_uri": "https://localhost:8080/"
        },
        "outputId": "68162f90-8342-4714-b413-f30f47626e8e"
      },
      "execution_count": null,
      "outputs": [
        {
          "output_type": "stream",
          "name": "stdout",
          "text": [
            "RMSE value for k=  1 is: 13.839636439864398\n",
            "RMSE value for k=  2 is: 11.687080323377872\n",
            "RMSE value for k=  3 is: 11.16981067713508\n",
            "RMSE value for k=  4 is: 10.335097889904667\n",
            "RMSE value for k=  5 is: 10.305862662394238\n",
            "RMSE value for k=  6 is: 10.64666733903618\n",
            "RMSE value for k=  7 is: 10.247883762298109\n",
            "RMSE value for k=  8 is: 10.452551653588802\n",
            "RMSE value for k=  9 is: 10.540558366356139\n",
            "RMSE value for k=  10 is: 10.37236926527946\n",
            "RMSE value for k=  11 is: 10.509929489095452\n",
            "RMSE value for k=  12 is: 10.275903480964006\n",
            "RMSE value for k=  13 is: 10.246678561637646\n",
            "RMSE value for k=  14 is: 10.524868215282845\n",
            "RMSE value for k=  15 is: 10.523212275964912\n",
            "RMSE value for k=  16 is: 10.557126871090569\n",
            "RMSE value for k=  17 is: 10.567274790711137\n",
            "RMSE value for k=  18 is: 10.662025846697624\n",
            "RMSE value for k=  19 is: 10.548645302688879\n",
            "RMSE value for k=  20 is: 10.731225345509019\n",
            "RMSE value for k=  21 is: 10.802165872133362\n",
            "RMSE value for k=  22 is: 10.758678321932981\n",
            "RMSE value for k=  23 is: 10.882632508043077\n",
            "RMSE value for k=  24 is: 10.985651545898497\n",
            "RMSE value for k=  25 is: 10.945571470009643\n"
          ]
        }
      ]
    },
    {
      "cell_type": "markdown",
      "source": [
        "plotting graph of k vs RMSE"
      ],
      "metadata": {
        "id": "g2MrKi2yN6hf"
      }
    },
    {
      "cell_type": "code",
      "source": [
        "plt.figure()\n",
        "plt.plot(range(1,26),rmse_val)\n",
        "plt.title('K vs RMSE')\n",
        "plt.show()\n",
        "\n"
      ],
      "metadata": {
        "colab": {
          "base_uri": "https://localhost:8080/",
          "height": 281
        },
        "id": "Uv_8uME7KYyi",
        "outputId": "b72f5ddf-7e22-4a47-a0d3-c62856547472"
      },
      "execution_count": null,
      "outputs": [
        {
          "output_type": "display_data",
          "data": {
            "text/plain": [
              "<Figure size 432x288 with 1 Axes>"
            ],
            "image/png": "[encoded data removed]"
          },
          "metadata": {
            "needs_background": "light"
          }
        }
      ]
    },
    {
      "cell_type": "markdown",
      "source": [
        "For smaller values of k, RMSE is high. The reason is that we won't have enough datapoints to fit the data. As we increase k, RMSE decrease. This shows us that we are reaching towards optimal value of k. After somepoint, RMSE will again increase because of overfitting. For our case optimal value of k=13."
      ],
      "metadata": {
        "id": "f3ghKR2nM9R6"
      }
    }
  ]
}